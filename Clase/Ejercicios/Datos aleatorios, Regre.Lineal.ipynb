{
 "cells": [
  {
   "cell_type": "markdown",
   "metadata": {},
   "source": [
    "# Modelo de Regresión Lineal\n",
    "## Modelo con datos simulados\n",
    "* y = a + b * x\n",
    "* X = 100 valores distribuidos según una N(1.5,2.5), media y desviacion estandar\n",
    "* Ye = 5 + 1 * X + e\n",
    "* e estara distribuida segun una N(0,0.8), si media 0 no, ocurren desplazamientos en el modelo."
   ]
  },
  {
   "cell_type": "code",
   "execution_count": 214,
   "metadata": {},
   "outputs": [],
   "source": [
    "import pandas as pd\n",
    "import numpy as np\n",
    "import matplotlib.pyplot as plt\n",
    "%matplotlib inline"
   ]
  },
  {
   "cell_type": "code",
   "execution_count": 215,
   "metadata": {},
   "outputs": [],
   "source": [
    "x = 1.5 + 2.5 * np.random.randn(100)"
   ]
  },
  {
   "cell_type": "code",
   "execution_count": 216,
   "metadata": {},
   "outputs": [],
   "source": [
    "res = 0 + 0.8 * np.random.randn(100)"
   ]
  },
  {
   "cell_type": "code",
   "execution_count": 217,
   "metadata": {},
   "outputs": [],
   "source": [
    "y_pred = 5 + 1 * x"
   ]
  },
  {
   "cell_type": "code",
   "execution_count": 218,
   "metadata": {},
   "outputs": [],
   "source": [
    "y_act = 5 + 1 * x + res"
   ]
  },
  {
   "cell_type": "code",
   "execution_count": 219,
   "metadata": {},
   "outputs": [],
   "source": [
    "x_list = x.tolist()\n",
    "y_pred_list = y_pred.tolist()\n",
    "y_act_list = y_act.tolist()"
   ]
  },
  {
   "cell_type": "code",
   "execution_count": 220,
   "metadata": {},
   "outputs": [],
   "source": [
    "data = pd.DataFrame(\n",
    "{\n",
    "    \"x\":x_list,\n",
    "    \"y_actual\":y_act_list,\n",
    "    \"y_prediccion\":y_pred_list\n",
    "})"
   ]
  },
  {
   "cell_type": "code",
   "execution_count": 221,
   "metadata": {},
   "outputs": [
    {
     "data": {
      "text/html": [
       "<div>\n",
       "<style scoped>\n",
       "    .dataframe tbody tr th:only-of-type {\n",
       "        vertical-align: middle;\n",
       "    }\n",
       "\n",
       "    .dataframe tbody tr th {\n",
       "        vertical-align: top;\n",
       "    }\n",
       "\n",
       "    .dataframe thead th {\n",
       "        text-align: right;\n",
       "    }\n",
       "</style>\n",
       "<table border=\"1\" class=\"dataframe\">\n",
       "  <thead>\n",
       "    <tr style=\"text-align: right;\">\n",
       "      <th></th>\n",
       "      <th>x</th>\n",
       "      <th>y_actual</th>\n",
       "      <th>y_prediccion</th>\n",
       "    </tr>\n",
       "  </thead>\n",
       "  <tbody>\n",
       "    <tr>\n",
       "      <td>0</td>\n",
       "      <td>0.887846</td>\n",
       "      <td>4.363025</td>\n",
       "      <td>5.887846</td>\n",
       "    </tr>\n",
       "    <tr>\n",
       "      <td>1</td>\n",
       "      <td>-3.548739</td>\n",
       "      <td>1.606630</td>\n",
       "      <td>1.451261</td>\n",
       "    </tr>\n",
       "    <tr>\n",
       "      <td>2</td>\n",
       "      <td>3.642759</td>\n",
       "      <td>10.556830</td>\n",
       "      <td>8.642759</td>\n",
       "    </tr>\n",
       "    <tr>\n",
       "      <td>3</td>\n",
       "      <td>0.736103</td>\n",
       "      <td>5.998840</td>\n",
       "      <td>5.736103</td>\n",
       "    </tr>\n",
       "    <tr>\n",
       "      <td>4</td>\n",
       "      <td>3.035505</td>\n",
       "      <td>7.464768</td>\n",
       "      <td>8.035505</td>\n",
       "    </tr>\n",
       "  </tbody>\n",
       "</table>\n",
       "</div>"
      ],
      "text/plain": [
       "          x   y_actual  y_prediccion\n",
       "0  0.887846   4.363025      5.887846\n",
       "1 -3.548739   1.606630      1.451261\n",
       "2  3.642759  10.556830      8.642759\n",
       "3  0.736103   5.998840      5.736103\n",
       "4  3.035505   7.464768      8.035505"
      ]
     },
     "execution_count": 221,
     "metadata": {},
     "output_type": "execute_result"
    }
   ],
   "source": [
    "data.head()"
   ]
  },
  {
   "cell_type": "code",
   "execution_count": 222,
   "metadata": {},
   "outputs": [],
   "source": [
    "y_mean =[np.mean(y_act) for i in range(1,len(x_list) + 1)]"
   ]
  },
  {
   "cell_type": "code",
   "execution_count": 223,
   "metadata": {},
   "outputs": [
    {
     "data": {
      "text/plain": [
       "Text(0.5, 1.0, 'Valor Actual vs Prediccion')"
      ]
     },
     "execution_count": 223,
     "metadata": {},
     "output_type": "execute_result"
    },
    {
     "data": {
      "image/png": "[encoded data removed]",
      "text/plain": [
       "<Figure size 432x288 with 1 Axes>"
      ]
     },
     "metadata": {
      "needs_background": "light"
     },
     "output_type": "display_data"
    }
   ],
   "source": [
    "plt.plot(data[\"x\"],data[\"y_prediccion\"])\n",
    "plt.plot(data[\"x\"],data[\"y_actual\"],\"ro\")\n",
    "plt.plot(data[\"x\"],y_mean,\"g\")\n",
    "plt.title(\"Valor Actual vs Prediccion\")"
   ]
  },
  {
   "cell_type": "code",
   "execution_count": 224,
   "metadata": {},
   "outputs": [],
   "source": [
    "data[\"SSR\"] = (data[\"y_prediccion\"]-np.mean(y_act))**2\n",
    "data[\"SSD\"] = (data[\"y_prediccion\"]-data[\"y_actual\"])**2\n",
    "data[\"SST\"] = (data[\"y_actual\"]-np.mean(y_act))**2"
   ]
  },
  {
   "cell_type": "code",
   "execution_count": 225,
   "metadata": {},
   "outputs": [
    {
     "data": {
      "text/html": [
       "<div>\n",
       "<style scoped>\n",
       "    .dataframe tbody tr th:only-of-type {\n",
       "        vertical-align: middle;\n",
       "    }\n",
       "\n",
       "    .dataframe tbody tr th {\n",
       "        vertical-align: top;\n",
       "    }\n",
       "\n",
       "    .dataframe thead th {\n",
       "        text-align: right;\n",
       "    }\n",
       "</style>\n",
       "<table border=\"1\" class=\"dataframe\">\n",
       "  <thead>\n",
       "    <tr style=\"text-align: right;\">\n",
       "      <th></th>\n",
       "      <th>x</th>\n",
       "      <th>y_actual</th>\n",
       "      <th>y_prediccion</th>\n",
       "      <th>SSR</th>\n",
       "      <th>SSD</th>\n",
       "      <th>SST</th>\n",
       "    </tr>\n",
       "  </thead>\n",
       "  <tbody>\n",
       "    <tr>\n",
       "      <td>0</td>\n",
       "      <td>0.887846</td>\n",
       "      <td>4.363025</td>\n",
       "      <td>5.887846</td>\n",
       "      <td>0.458537</td>\n",
       "      <td>2.325079</td>\n",
       "      <td>4.848691</td>\n",
       "    </tr>\n",
       "    <tr>\n",
       "      <td>1</td>\n",
       "      <td>-3.548739</td>\n",
       "      <td>1.606630</td>\n",
       "      <td>1.451261</td>\n",
       "      <td>26.150316</td>\n",
       "      <td>0.024139</td>\n",
       "      <td>24.585427</td>\n",
       "    </tr>\n",
       "    <tr>\n",
       "      <td>2</td>\n",
       "      <td>3.642759</td>\n",
       "      <td>10.556830</td>\n",
       "      <td>8.642759</td>\n",
       "      <td>4.317086</td>\n",
       "      <td>3.663669</td>\n",
       "      <td>15.934716</td>\n",
       "    </tr>\n",
       "    <tr>\n",
       "      <td>3</td>\n",
       "      <td>0.736103</td>\n",
       "      <td>5.998840</td>\n",
       "      <td>5.736103</td>\n",
       "      <td>0.687068</td>\n",
       "      <td>0.069030</td>\n",
       "      <td>0.320536</td>\n",
       "    </tr>\n",
       "    <tr>\n",
       "      <td>4</td>\n",
       "      <td>3.035505</td>\n",
       "      <td>7.464768</td>\n",
       "      <td>8.035505</td>\n",
       "      <td>2.162389</td>\n",
       "      <td>0.325741</td>\n",
       "      <td>0.809584</td>\n",
       "    </tr>\n",
       "  </tbody>\n",
       "</table>\n",
       "</div>"
      ],
      "text/plain": [
       "          x   y_actual  y_prediccion        SSR       SSD        SST\n",
       "0  0.887846   4.363025      5.887846   0.458537  2.325079   4.848691\n",
       "1 -3.548739   1.606630      1.451261  26.150316  0.024139  24.585427\n",
       "2  3.642759  10.556830      8.642759   4.317086  3.663669  15.934716\n",
       "3  0.736103   5.998840      5.736103   0.687068  0.069030   0.320536\n",
       "4  3.035505   7.464768      8.035505   2.162389  0.325741   0.809584"
      ]
     },
     "execution_count": 225,
     "metadata": {},
     "output_type": "execute_result"
    }
   ],
   "source": [
    "data.head()"
   ]
  },
  {
   "cell_type": "code",
   "execution_count": 226,
   "metadata": {},
   "outputs": [],
   "source": [
    "SSR = sum(data[\"SSR\"])\n",
    "SSD = sum(data[\"SSD\"])\n",
    "SST = sum(data[\"SST\"])"
   ]
  },
  {
   "cell_type": "code",
   "execution_count": 227,
   "metadata": {},
   "outputs": [
    {
     "data": {
      "text/plain": [
       "638.2462574111269"
      ]
     },
     "execution_count": 227,
     "metadata": {},
     "output_type": "execute_result"
    }
   ],
   "source": [
    "SST"
   ]
  },
  {
   "cell_type": "code",
   "execution_count": 228,
   "metadata": {},
   "outputs": [
    {
     "data": {
      "text/plain": [
       "588.2783779947918"
      ]
     },
     "execution_count": 228,
     "metadata": {},
     "output_type": "execute_result"
    }
   ],
   "source": [
    "SSR"
   ]
  },
  {
   "cell_type": "code",
   "execution_count": 229,
   "metadata": {},
   "outputs": [
    {
     "data": {
      "text/plain": [
       "55.46960512015309"
      ]
     },
     "execution_count": 229,
     "metadata": {},
     "output_type": "execute_result"
    }
   ],
   "source": [
    "SSD"
   ]
  },
  {
   "cell_type": "code",
   "execution_count": 230,
   "metadata": {},
   "outputs": [
    {
     "data": {
      "text/plain": [
       "643.7479831149449"
      ]
     },
     "execution_count": 230,
     "metadata": {},
     "output_type": "execute_result"
    }
   ],
   "source": [
    "SSD + SSR"
   ]
  },
  {
   "cell_type": "code",
   "execution_count": 231,
   "metadata": {},
   "outputs": [],
   "source": [
    "R2 = SSR/SST"
   ]
  },
  {
   "cell_type": "code",
   "execution_count": 232,
   "metadata": {},
   "outputs": [
    {
     "data": {
      "text/plain": [
       "0.9217106581728872"
      ]
     },
     "execution_count": 232,
     "metadata": {},
     "output_type": "execute_result"
    }
   ],
   "source": [
    "R2"
   ]
  },
  {
   "cell_type": "code",
   "execution_count": 233,
   "metadata": {},
   "outputs": [
    {
     "data": {
      "text/plain": [
       "(array([ 2.,  3., 11., 22., 21., 22., 11.,  6.,  1.,  1.]),\n",
       " array([-1.98255015, -1.5544567 , -1.12636325, -0.6982698 , -0.27017635,\n",
       "         0.15791711,  0.58601056,  1.01410401,  1.44219746,  1.87029091,\n",
       "         2.29838436]),\n",
       " <a list of 10 Patch objects>)"
      ]
     },
     "execution_count": 233,
     "metadata": {},
     "output_type": "execute_result"
    },
    {
     "data": {
      "image/png": "[encoded data removed]",
      "text/plain": [
       "<Figure size 432x288 with 1 Axes>"
      ]
     },
     "metadata": {
      "needs_background": "light"
     },
     "output_type": "display_data"
    }
   ],
   "source": [
    "plt.hist((data[\"y_prediccion\"]-data[\"y_actual\"]))#SSD"
   ]
  },
  {
   "cell_type": "markdown",
   "metadata": {},
   "source": [
    "# Obteniendo la recta de regresión\n",
    "\n",
    "* y = a + b * x\n",
    "* b = sum((xi - x_m)*(y_i-y_m))/sum((xi-x_m)^2)\n",
    "* a = y_m - b * x_m"
   ]
  },
  {
   "cell_type": "code",
   "execution_count": 234,
   "metadata": {},
   "outputs": [
    {
     "data": {
      "text/plain": [
       "(1.5388045170053788, 6.56499888372369)"
      ]
     },
     "execution_count": 234,
     "metadata": {},
     "output_type": "execute_result"
    }
   ],
   "source": [
    "x_m = np.mean(data[\"x\"])\n",
    "y_m = np.mean(data[\"y_actual\"])\n",
    "x_m, y_m"
   ]
  },
  {
   "cell_type": "code",
   "execution_count": 235,
   "metadata": {},
   "outputs": [],
   "source": [
    "data[\"beta_numerador\"] = (data[\"x\"]-x_m)*(data[\"y_actual\"]-y_m)\n",
    "data[\"beta_denominador\"] = (data[\"x\"]-x_m)**2"
   ]
  },
  {
   "cell_type": "code",
   "execution_count": 236,
   "metadata": {},
   "outputs": [],
   "source": [
    "beta = sum(data[\"beta_numerador\"])/sum(data[\"beta_denominador\"])"
   ]
  },
  {
   "cell_type": "code",
   "execution_count": 237,
   "metadata": {},
   "outputs": [],
   "source": [
    "alpha = y_m -beta *x_m"
   ]
  },
  {
   "cell_type": "code",
   "execution_count": 238,
   "metadata": {},
   "outputs": [
    {
     "data": {
      "text/plain": [
       "(5.033211346304714, 0.9954399798617317)"
      ]
     },
     "execution_count": 238,
     "metadata": {},
     "output_type": "execute_result"
    }
   ],
   "source": [
    "alpha, beta"
   ]
  },
  {
   "cell_type": "markdown",
   "metadata": {},
   "source": [
    "* El modelo lineal obtenido por regresion es: y = 4.950816085564027 +  1.040281988430695 * x"
   ]
  },
  {
   "cell_type": "code",
   "execution_count": 239,
   "metadata": {},
   "outputs": [],
   "source": [
    "data[\"y_model\"] = alpha + beta * data[\"x\"]"
   ]
  },
  {
   "cell_type": "code",
   "execution_count": 240,
   "metadata": {},
   "outputs": [
    {
     "data": {
      "text/html": [
       "<div>\n",
       "<style scoped>\n",
       "    .dataframe tbody tr th:only-of-type {\n",
       "        vertical-align: middle;\n",
       "    }\n",
       "\n",
       "    .dataframe tbody tr th {\n",
       "        vertical-align: top;\n",
       "    }\n",
       "\n",
       "    .dataframe thead th {\n",
       "        text-align: right;\n",
       "    }\n",
       "</style>\n",
       "<table border=\"1\" class=\"dataframe\">\n",
       "  <thead>\n",
       "    <tr style=\"text-align: right;\">\n",
       "      <th></th>\n",
       "      <th>x</th>\n",
       "      <th>y_actual</th>\n",
       "      <th>y_prediccion</th>\n",
       "      <th>SSR</th>\n",
       "      <th>SSD</th>\n",
       "      <th>SST</th>\n",
       "      <th>beta_numerador</th>\n",
       "      <th>beta_denominador</th>\n",
       "      <th>y_model</th>\n",
       "    </tr>\n",
       "  </thead>\n",
       "  <tbody>\n",
       "    <tr>\n",
       "      <td>0</td>\n",
       "      <td>0.887846</td>\n",
       "      <td>4.363025</td>\n",
       "      <td>5.887846</td>\n",
       "      <td>0.458537</td>\n",
       "      <td>2.325079</td>\n",
       "      <td>4.848691</td>\n",
       "      <td>1.433395</td>\n",
       "      <td>0.423748</td>\n",
       "      <td>5.917008</td>\n",
       "    </tr>\n",
       "    <tr>\n",
       "      <td>1</td>\n",
       "      <td>-3.548739</td>\n",
       "      <td>1.606630</td>\n",
       "      <td>1.451261</td>\n",
       "      <td>26.150316</td>\n",
       "      <td>0.024139</td>\n",
       "      <td>24.585427</td>\n",
       "      <td>25.225920</td>\n",
       "      <td>25.883100</td>\n",
       "      <td>1.500655</td>\n",
       "    </tr>\n",
       "    <tr>\n",
       "      <td>2</td>\n",
       "      <td>3.642759</td>\n",
       "      <td>10.556830</td>\n",
       "      <td>8.642759</td>\n",
       "      <td>4.317086</td>\n",
       "      <td>3.663669</td>\n",
       "      <td>15.934716</td>\n",
       "      <td>8.398630</td>\n",
       "      <td>4.426623</td>\n",
       "      <td>8.659359</td>\n",
       "    </tr>\n",
       "    <tr>\n",
       "      <td>3</td>\n",
       "      <td>0.736103</td>\n",
       "      <td>5.998840</td>\n",
       "      <td>5.736103</td>\n",
       "      <td>0.687068</td>\n",
       "      <td>0.069030</td>\n",
       "      <td>0.320536</td>\n",
       "      <td>0.454457</td>\n",
       "      <td>0.644329</td>\n",
       "      <td>5.765958</td>\n",
       "    </tr>\n",
       "    <tr>\n",
       "      <td>4</td>\n",
       "      <td>3.035505</td>\n",
       "      <td>7.464768</td>\n",
       "      <td>8.035505</td>\n",
       "      <td>2.162389</td>\n",
       "      <td>0.325741</td>\n",
       "      <td>0.809584</td>\n",
       "      <td>1.346685</td>\n",
       "      <td>2.240113</td>\n",
       "      <td>8.054875</td>\n",
       "    </tr>\n",
       "  </tbody>\n",
       "</table>\n",
       "</div>"
      ],
      "text/plain": [
       "          x   y_actual  y_prediccion        SSR       SSD        SST  \\\n",
       "0  0.887846   4.363025      5.887846   0.458537  2.325079   4.848691   \n",
       "1 -3.548739   1.606630      1.451261  26.150316  0.024139  24.585427   \n",
       "2  3.642759  10.556830      8.642759   4.317086  3.663669  15.934716   \n",
       "3  0.736103   5.998840      5.736103   0.687068  0.069030   0.320536   \n",
       "4  3.035505   7.464768      8.035505   2.162389  0.325741   0.809584   \n",
       "\n",
       "   beta_numerador  beta_denominador   y_model  \n",
       "0        1.433395          0.423748  5.917008  \n",
       "1       25.225920         25.883100  1.500655  \n",
       "2        8.398630          4.426623  8.659359  \n",
       "3        0.454457          0.644329  5.765958  \n",
       "4        1.346685          2.240113  8.054875  "
      ]
     },
     "execution_count": 240,
     "metadata": {},
     "output_type": "execute_result"
    }
   ],
   "source": [
    "data.head()"
   ]
  },
  {
   "cell_type": "code",
   "execution_count": 241,
   "metadata": {},
   "outputs": [],
   "source": [
    "SSR = sum((data[\"y_model\"]-y_m)**2)\n",
    "SSD = sum((data[\"y_model\"]-data[\"y_actual\"])**2)\n",
    "SST = sum((data[\"y_actual\"]-y_m)**2)"
   ]
  },
  {
   "cell_type": "code",
   "execution_count": 242,
   "metadata": {},
   "outputs": [
    {
     "data": {
      "text/plain": [
       "(582.8574978823214, 55.388759528805856, 638.2462574111267)"
      ]
     },
     "execution_count": 242,
     "metadata": {},
     "output_type": "execute_result"
    }
   ],
   "source": [
    "SSR,SSD,SST"
   ]
  },
  {
   "cell_type": "code",
   "execution_count": 243,
   "metadata": {},
   "outputs": [
    {
     "data": {
      "text/plain": [
       "100"
      ]
     },
     "execution_count": 243,
     "metadata": {},
     "output_type": "execute_result"
    }
   ],
   "source": [
    "len(data)"
   ]
  },
  {
   "cell_type": "code",
   "execution_count": 244,
   "metadata": {},
   "outputs": [
    {
     "data": {
      "text/plain": [
       "0.9132172591916561"
      ]
     },
     "execution_count": 244,
     "metadata": {},
     "output_type": "execute_result"
    }
   ],
   "source": [
    "R2 = SSR/SST\n",
    "R2"
   ]
  },
  {
   "cell_type": "code",
   "execution_count": 245,
   "metadata": {},
   "outputs": [
    {
     "data": {
      "text/plain": [
       "Text(0.5, 1.0, 'Valor Actual vs Prediccion')"
      ]
     },
     "execution_count": 245,
     "metadata": {},
     "output_type": "execute_result"
    },
    {
     "data": {
      "image/png": "[encoded data removed]",
      "text/plain": [
       "<Figure size 432x288 with 1 Axes>"
      ]
     },
     "metadata": {
      "needs_background": "light"
     },
     "output_type": "display_data"
    }
   ],
   "source": [
    "y_mean =[np.mean(y_act) for i in range(1,len(x_list) + 1)]\n",
    "plt.plot(x,y_pred)\n",
    "plt.plot(x,y_act,\"ro\")\n",
    "plt.plot(x,y_mean,\"g\")\n",
    "plt.plot(data[\"x\"],data[\"y_model\"])\n",
    "plt.title(\"Valor Actual vs Prediccion\")"
   ]
  },
  {
   "cell_type": "markdown",
   "metadata": {},
   "source": [
    "## Error estandar de los residuos (RSE)"
   ]
  },
  {
   "cell_type": "code",
   "execution_count": 246,
   "metadata": {},
   "outputs": [],
   "source": [
    "RSE = np.sqrt(SSD)/(len(data)-2)"
   ]
  },
  {
   "cell_type": "code",
   "execution_count": 247,
   "metadata": {},
   "outputs": [
    {
     "data": {
      "text/plain": [
       "0.07594247445373621"
      ]
     },
     "execution_count": 247,
     "metadata": {},
     "output_type": "execute_result"
    }
   ],
   "source": [
    "RSE"
   ]
  },
  {
   "cell_type": "code",
   "execution_count": 248,
   "metadata": {},
   "outputs": [
    {
     "data": {
      "text/plain": [
       "6.56499888372369"
      ]
     },
     "execution_count": 248,
     "metadata": {},
     "output_type": "execute_result"
    }
   ],
   "source": [
    "np.mean(data[\"y_actual\"])"
   ]
  },
  {
   "cell_type": "code",
   "execution_count": 249,
   "metadata": {},
   "outputs": [
    {
     "data": {
      "text/plain": [
       "0.011567781777087125"
      ]
     },
     "execution_count": 249,
     "metadata": {},
     "output_type": "execute_result"
    }
   ],
   "source": [
    "RSE / np.mean(data[\"y_actual\"])"
   ]
  },
  {
   "cell_type": "code",
   "execution_count": null,
   "metadata": {},
   "outputs": [],
   "source": []
  },
  {
   "cell_type": "code",
   "execution_count": null,
   "metadata": {},
   "outputs": [],
   "source": []
  }
 ],
 "metadata": {
  "kernelspec": {
   "display_name": "Python 3",
   "language": "python",
   "name": "python3"
  },
  "language_info": {
   "codemirror_mode": {
    "name": "ipython",
    "version": 3
   },
   "file_extension": ".py",
   "mimetype": "text/x-python",
   "name": "python",
   "nbconvert_exporter": "python",
   "pygments_lexer": "ipython3",
   "version": "3.7.4"
  }
 },
 "nbformat": 4,
 "nbformat_minor": 2
}
